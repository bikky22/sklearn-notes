{
 "cells": [
  {
   "cell_type": "code",
   "execution_count": 1,
   "metadata": {},
   "outputs": [],
   "source": [
    "def loadData(dataset):\n",
    "    \"\"\"\n",
    "    Generic function to read various file formats. Currently supports XLS(X), CSV and TSV. Can read through the\n",
    "    compressed formats as well.\n",
    "\n",
    "    :param dataset:\n",
    "    :return: the dataset as pandas DataFrame\n",
    "    \"\"\"\n",
    "    # TODO pass in parameters to allow for the fractional dataset.\n",
    "\n",
    "    fileName, fileExtension = os.path.splitext(dataset)\n",
    "    if fileExtension in ['.xlsx', '.xls']:\n",
    "        data = pd.read_excel(dataset).sample(frac=1.0, replace=False, random_state=7388)\n",
    "    elif fileExtension in ['.csv']:\n",
    "        data = pd.read_csv(dataset).sample(frac=1., replace=False, random_state=7388, encoding='ISO-8859-1', low_memory=False)\n",
    "    elif fileExtension in ['.tsv']:\n",
    "        data = pd.read_csv(dataset, compression='gzip', sep='\\t').sample(frac=1., replace=False, random_state=7388)\n",
    "    else:\n",
    "        raise (NotImplementedError)\n",
    "\n",
    "    return (data)"
   ]
  },
  {
   "cell_type": "code",
   "execution_count": 2,
   "metadata": {},
   "outputs": [],
   "source": [
    "def multiclass_logloss(actual, predicted, eps=1e-15):\n",
    "    \"\"\"Multi class version of Logarithmic Loss metric.\n",
    "    Parameters\n",
    "    ----------\n",
    "    :param actual: Array containing the y_true target classes\n",
    "    :param predicted: Matrix with class predictions, one probability per class\n",
    "    \n",
    "    Returns\n",
    "    -------\n",
    "    fitness: float\n",
    "        Returns a float value \n",
    "    \"\"\"\n",
    "    # Convert 'y_true' to a binary array if it's not already:\n",
    "    if len(actual.shape) == 1:\n",
    "        actual2 = np.zeros((actual.shape[0], predicted.shape[1]))\n",
    "        for i, val in enumerate(actual):\n",
    "            actual2[i, val] = 1\n",
    "        actual = actual2\n",
    "\n",
    "    clip = np.clip(predicted, eps, 1 - eps)\n",
    "    rows = actual.shape[0]\n",
    "    vsota = np.sum(actual * np.log(clip))\n",
    "    return -1.0 / rows * vsota"
   ]
  },
  {
   "cell_type": "code",
   "execution_count": 3,
   "metadata": {},
   "outputs": [],
   "source": [
    "def balanced_accuracy_score(y_true, y_pred):\n",
    "    \"\"\"Default scoring function: balanced accuracy\n",
    "    Balanced accuracy computes each class' accuracy on a per-class basis using a\n",
    "    one-vs-rest encoding, then computes an unweighted average of the class accuracies.\n",
    "    Parameters\n",
    "    ----------\n",
    "    y_true: numpy.ndarray {n_samples}\n",
    "        Array containing the y_true target classes\n",
    "    y_pred: numpy.ndarray {n_samples}\n",
    "        Matrix with class predictions, one probability per class\n",
    "    Returns\n",
    "    -------\n",
    "    fitness: float\n",
    "        Returns a float value indicating the `individual`'s balanced accuracy\n",
    "        0.5 is as good as chance, and 1.0 is perfect predictive accuracy\n",
    "    \"\"\"\n",
    "    all_classes = list(set(np.append(y_true, y_pred)))\n",
    "    all_class_accuracies = []\n",
    "    for this_class in all_classes:\n",
    "        try:\n",
    "            this_class_sensitivity = \\\n",
    "                float(sum((y_pred == this_class) & (y_true == this_class))) / \\\n",
    "                float(sum((y_true == this_class)))\n",
    "        except:\n",
    "            this_class_sensitivity = 0.\n",
    "        try:\n",
    "            this_class_specificity = \\\n",
    "                float(sum((y_pred != this_class) & (y_true != this_class))) / \\\n",
    "                float(sum((y_true != this_class)))\n",
    "        except:\n",
    "            this_class_specificity = 0.\n",
    "\n",
    "        this_class_accuracy = (this_class_sensitivity + this_class_specificity) / 2.\n",
    "        all_class_accuracies.append(this_class_accuracy)\n",
    "\n",
    "    return np.mean(all_class_accuracies)"
   ]
  },
  {
   "cell_type": "code",
   "execution_count": null,
   "metadata": {},
   "outputs": [],
   "source": [
    "xtrain, xvalid, ytrain, yvalid = train_test_split(X.astype(str), \n",
    "                                                  y.astype(str), \n",
    "                                                  random_state=7388, \n",
    "                                                  test_size=0.1, \n",
    "                                                  shuffle=True)"
   ]
  }
 ],
 "metadata": {
  "kernelspec": {
   "display_name": "Python 3",
   "language": "python",
   "name": "python3"
  },
  "language_info": {
   "codemirror_mode": {
    "name": "ipython",
    "version": 3
   },
   "file_extension": ".py",
   "mimetype": "text/x-python",
   "name": "python",
   "nbconvert_exporter": "python",
   "pygments_lexer": "ipython3",
   "version": "3.6.3"
  }
 },
 "nbformat": 4,
 "nbformat_minor": 2
}

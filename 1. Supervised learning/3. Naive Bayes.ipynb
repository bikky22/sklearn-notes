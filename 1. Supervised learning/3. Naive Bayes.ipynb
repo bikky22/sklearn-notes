{
 "cells": [
  {
   "cell_type": "markdown",
   "metadata": {},
   "source": [
    "> supervised learning algorithms\n",
    "\n",
    "> Bayes’ theorem :\n",
    "\n",
    ">$$P(y|x_{1}, \\dots , x_{n}) = \\frac{P(y)P(x_{1}, \\dots, x_{n}|y)}{p(x_{1}, \\dots,x_{n})}$$\n",
    "\n",
    "> \"naive\" independence assumption between every pair of features\n",
    "\n",
    ">$$P(x_{i}|y, x_{1}, \\dots , x_{i-1}, x_{i+1}, \\dots, x_{n}) = P(x_{i}|y)$$\n"
   ]
  },
  {
   "cell_type": "markdown",
   "metadata": {},
   "source": [
    "## Gaussian Naive Bayes ##\n",
    "The likelihood of the features is assumed to be Gaussian\n",
    "\n",
    "$$P(x_{i}|y) = \\frac{1}{\\sqrt{2\\pi\\sigma_{y}^{2}}} exp(-\\frac{(x_{i}-\\mu_{y})^{2}}{2\\sigma_{y}^{2}})$$\n",
    "\n",
    "> $\\sigma_{y}$ and $\\mu_{y}$ are estimated using maximum likelihood "
   ]
  },
  {
   "cell_type": "code",
   "execution_count": 1,
   "metadata": {},
   "outputs": [
    {
     "name": "stdout",
     "output_type": "stream",
     "text": [
      "Number of mislabeled points out of a total 150 points : 6\n"
     ]
    }
   ],
   "source": [
    "from sklearn import datasets\n",
    "iris = datasets.load_iris()\n",
    "from sklearn.naive_bayes import GaussianNB\n",
    "gnb = GaussianNB()\n",
    "y_pred = gnb.fit(iris.data, iris.target).predict(iris.data)\n",
    "print(\"Number of mislabeled points out of a total %d points : %d\"\n",
    "      % (iris.data.shape[0],(iris.target != y_pred).sum()))"
   ]
  },
  {
   "cell_type": "markdown",
   "metadata": {},
   "source": [
    "## Multinomial Naive Bayes ##\n",
    "On multinomially distributed data\n",
    "\n",
    "$n$ = number of features \n",
    "\n",
    "$y$ = class\n",
    "\n",
    "$$\\theta_{y} = (\\theta_{y1}, \\dots , \\theta_{yn})$$\n",
    "\n",
    "$$P(x_{i}|y) = \\theta_{y}$$\n",
    "\n",
    "\n",
    "** Relative frequency counting (*smooth version of max likelyhood*) **\n",
    "$$\\hat{\\theta}_{yi} = \\frac{N_{yi} + \\alpha}{N_{y}+\\alpha n}$$\n",
    "\n",
    "where:\n",
    "\n",
    "$N_{yi} = \\sum_{x\\in T}x_{i}$\n",
    "\n",
    "$N_{y} = \\sum_{i=1}^{|T|}$\n",
    "\n",
    "$T$ is training set\n",
    "\n",
    "$i$ is feature number \n",
    "\n",
    "$N_{yi}$ times feature $i$ appears in a sample of class $y$ in training set $T$ \n",
    "\n",
    "$N_{y}$ is total count of features for class $y$\n",
    "\n",
    "$\\alpha \\ge 0$ features not present in learning samples\n",
    "\n",
    "$\\alpha = 1$ Laplace Smoothing\n",
    "\n",
    "$\\alpha \\lt 0$ Lidstone smoothing"
   ]
  },
  {
   "cell_type": "markdown",
   "metadata": {},
   "source": [
    "# Bernoulli Naive Bayes #\n",
    "on multivariante bernouli distributions\n",
    "\n",
    "$$P(x_{i}|y) = P(i|y)x_{i} + (1-P(i|y))(1-x_{i})$$"
   ]
  },
  {
   "cell_type": "markdown",
   "metadata": {},
   "source": [
    "```python\n",
    "from sklearn.naive_bayes import GaussianNB\n",
    "```\n",
    "> * class_prior_\n",
    "> * class_count_\n",
    "> * theta_\n",
    "> * sigma_\n",
    "\n",
    "| Parameters | type | value | dafault |\n",
    "|------------|------|-------|---------|\n",
    "| priors | array | shape | none |\n",
    "\n",
    "| Methods | Parameters | return |\n",
    "|---------|------------|--------|\n",
    "| \\_\\_init\\_\\_ | priors = None | |\n",
    "| fit | X, y, sample_weight=None | self |\n",
    "| get_params | deep=True | params |\n",
    "| partial_fit | X, y, classes=None, sample_weight=None | self |\n",
    "| predict | X | C |\n",
    "| predict_log_proba | X | C |\n",
    "| predict_proba | X | C |\n",
    "| score | X, y, sample_weight=None | score |\n",
    "| set_params | \\*\\*params | self |"
   ]
  },
  {
   "cell_type": "markdown",
   "metadata": {},
   "source": [
    "```python\n",
    "from sklearn.naive_bayes import MultinomialNB\n",
    "```\n",
    "> * class_log_prior_\n",
    "> * intercept_\n",
    "> * feature_log_prob_\n",
    "> * coef_\n",
    "> * class_count_\n",
    "> * feature_count_\n",
    "\n",
    "| Parameters | type | value | dafault |\n",
    "|------------|------|-------|---------|\n",
    "| alpha | float | optional | 1.0 |\n",
    "| fit_prior | boolean | optional | True |\n",
    "| class_prior | array-like, size=[n_classes,] | optional | None |\n",
    "\n",
    "\n",
    "| Methods | Parameters | return |\n",
    "|---------|------------|--------|\n",
    "| \\_\\_init\\_\\_ | alpha=1.0, fit_prior=True, class_prior=None | |\n",
    "| fit | X, y, sample_weight=None | self |\n",
    "| get_params | deep=True | params |\n",
    "| partial_fit | X, y, classes=None, sample_weight=None | self |\n",
    "| predict | X | C |\n",
    "| predict_log_proba | X | C |\n",
    "| predict_proba | X | C |\n",
    "| score | X, y, sample_weight=None | score |\n",
    "| set_params | \\*\\*params | self |"
   ]
  },
  {
   "cell_type": "markdown",
   "metadata": {},
   "source": [
    "\n",
    "```python\n",
    "from sklearn.naive_bayes import BernoulliNB\n",
    "```\n",
    "> * class_log_prior_\n",
    "> * feature_log_prob_\n",
    "> * class_count_\n",
    "> * feature_count_\n",
    "\n",
    "| Parameters | type | value | dafault |\n",
    "|------------|------|-------|---------|\n",
    "| alpha | float | optional | 1.0 |\n",
    "| binarize | float | optional | 0.0 |\n",
    "| fit_prior | boolean | optional | True |\n",
    "| class_prior | array-like, size=[n_classes,] | optional | None |\n",
    "\n",
    "\n",
    "| Methods | Parameters | return |\n",
    "|---------|------------|--------|\n",
    "| \\_\\_init\\_\\_ | alpha=1.0, binarize=0.0, fit_prior=True, class_prior=None | |\n",
    "| fit | X, y, sample_weight=None | self |\n",
    "| get_params | deep=True | params |\n",
    "| partial_fit | X, y, classes=None, sample_weight=None | self |\n",
    "| predict | X | C |\n",
    "| predict_log_proba | X | C |\n",
    "| predict_proba | X | C |\n",
    "| score | X, y, sample_weight=None | score |\n",
    "| set_params | \\*\\*params | self |"
   ]
  }
 ],
 "metadata": {
  "kernelspec": {
   "display_name": "Python 3",
   "language": "python",
   "name": "python3"
  },
  "language_info": {
   "codemirror_mode": {
    "name": "ipython",
    "version": 3
   },
   "file_extension": ".py",
   "mimetype": "text/x-python",
   "name": "python",
   "nbconvert_exporter": "python",
   "pygments_lexer": "ipython3",
   "version": "3.6.3"
  }
 },
 "nbformat": 4,
 "nbformat_minor": 2
}

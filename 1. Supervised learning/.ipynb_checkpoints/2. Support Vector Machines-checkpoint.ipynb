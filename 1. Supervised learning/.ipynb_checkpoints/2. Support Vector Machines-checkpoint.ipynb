{
 "cells": [
  {
   "cell_type": "markdown",
   "metadata": {},
   "source": [
    "# SVC #\n",
    "\n",
    "Given training:\n",
    "\n",
    "Input vector $x_{i} \\in \\mathcal{R}^{p}, i=1,\\dots ,n$\n",
    "\n",
    "class = $2$\n",
    "\n",
    "Output vector $y \\in \\{1, -1\\}^{n}$\n",
    "\n",
    "$$\\min_{w,b,c}\\frac{1}{2}w^{T}w+C\\sum_{i=1}^{n}\\zeta_{i}$$\n",
    "\n",
    "subject to\n",
    "\n",
    "$y_{i}(w^{T}\\phi(x_{i})+b)\\ge1-\\zeta_{i}$\n",
    "\n",
    "$\\zeta_{i}\\ge0,i=1,\\dots,n$\n",
    "\n",
    "\n",
    "** Dual coffecient **\n",
    "\n",
    "$$\\min_{\\alpha}\\frac{1}{2}\\alpha^{T}\\mathcal(Q)\\alpha-e^{T}\\alpha$$\n",
    "\n",
    "subjected to :\n",
    "\n",
    "$y^{T}\\alpha = 0$\n",
    "\n",
    "$0\\le\\alpha_{i}\\le C, i=1,\\dots,n$\n",
    "\n",
    "\n",
    "$e$ is vector of all ones\n",
    "\n",
    "$C\\gt0$ is upper bound\n",
    "\n",
    "$\\mathcal{Q}_{n\\times n}$ semidefinite positive matrix\n",
    "\n",
    "$\\mathcal{Q}_{ij} \\equiv y_{i}y_{j}K(x_{i},x_{j})$\n",
    "\n",
    "*Kernel*: $K(x_{i},x{j}) = \\phi(x_{i})^{T}\\phi(x_{j})$\n",
    "\n",
    "Training vectors are implicitly mapped into higher dimention space ($\\infty$) by decision function ($\\phi$)\n",
    "\n",
    "$$sgn(\\sum_{i=1}^{n}y_{i}\\alpha_{i}K(x_{i}, x)+\\rho)$$\n",
    "\n",
    "\n",
    "> *libsvm and liblinear use $c$ as gegularization parameter.\n",
    "Other use $\\alpha$*\n",
    "\n",
    "<b><i>dual\\_coef\\_</i></b> holds $y_{i}\\alpha_{i}$\n",
    "\n",
    "<b><i>support\\_vectors\\_</i></b> holds support vector\n",
    "\n",
    "<b><i>intercept\\_</i></b> holds independent term $\\rho$"
   ]
  },
  {
   "cell_type": "markdown",
   "metadata": {},
   "source": [
    "# NuSVC #\n",
    "$\\nu$ controls number of support vectors and training errors\n",
    "$$\\nu\\in(0,1]$$\n",
    "\n",
    "Upper bound: training errors\n",
    "\n",
    "Lower bound: support vectors\n",
    "\n",
    "> *mathematically $\\nu$-SVC $\\equiv$ $C$-SVC* (reparameterization of $C$-SVC)"
   ]
  },
  {
   "cell_type": "markdown",
   "metadata": {},
   "source": [
    "\n",
    "# SVR #\n",
    "\n",
    "Given training:\n",
    "\n",
    "Input vector $x_{i} \\in \\mathcal{R}^{p}, i=1,\\dots ,n$\n",
    "\n",
    "Output vector $y \\in \\mathcal{R}^{n}$\n",
    "\n",
    "$\\epsilon$-SVR solves:\n",
    "\n",
    "$$\\min_{w,b,\\zeta,\\zeta^{*}}\\frac{1}{2}w^{T}w + C \\sum_{i=1}^{n}(\\zeta_{i} + \\zeta_{i}^{*})$$\n",
    "\n",
    "subjected to:\n",
    "\n",
    "$y_{i} - w^{T}\\phi(x_{i})-b \\le \\epsilon + \\zeta_{i}$\n",
    "\n",
    "$w^{T}\\phi(x_{i}) + b -y_{i} \\le \\epsilon + \\zeta_{i}^{*}$\n",
    "\n",
    "$\\zeta_{i}, \\zeta_{i}^{*} \\ge 0, i=1, \\dots , n$\n",
    "\n",
    "** Dual coffecient: **\n",
    "\n",
    "$$\\min_{\\alpha, \\alpha ^{*}} \\frac{1}{2}(\\alpha - \\alpha^{*})^{T}\\mathcal{Q}(\\alpha - \\alpha^{*}) + \\epsilon e^{T}(\\alpha + \\alpha^{*}) - y^{T}(\\alpha - \\alpha^{*})$$\n",
    "\n",
    "subjected to :\n",
    "\n",
    "$e^{T}(\\alpha - \\alpha^{*}) = 0$\n",
    "\n",
    "$0\\le \\alpha_{i}$\n",
    "\n",
    "$\\alpha_{i}^{*} \\le C, i=1, \\dots, n$\n",
    "\n",
    "$e$ is vector of all ones\n",
    "\n",
    "$C\\gt0$ is upper bound\n",
    "\n",
    "$\\mathcal{Q}_{n\\times n}$ positive matrix\n",
    "\n",
    "$\\mathcal{Q}_{ij}\\equiv K(x_{i},x_{j})= \\phi(x_{i})^{T}\\phi(x_{j})$\n",
    "\n",
    "Training vectors are implicitly mapped into higher dimention space ($\\infty$) by decision function ($\\phi$)\n",
    "$$\\sum_{i=1}^{n}(\\alpha_{i}-\\alpha_{i}^{*})K(x_{i}, x)+ \\rho$$\n",
    "\n",
    "<b><i>dual\\_coef\\_</i></b> holds $\\alpha_{i}-\\alpha_{i}^{*}$\n",
    "\n",
    "<b><i>support\\_vectors\\_</i></b> holds support vector\n",
    "\n",
    "<b><i>intercept\\_</i></b> holds independent term $\\rho$"
   ]
  },
  {
   "cell_type": "markdown",
   "metadata": {},
   "source": [
    "<hr />\n",
    "# $\\langle code \\rangle$ #\n",
    "<hr />"
   ]
  },
  {
   "cell_type": "markdown",
   "metadata": {},
   "source": [
    "Training samples: $X \\in [n\\_samples, n\\_features]$\n",
    "\n",
    "Class labels: $y \\in [n\\_samples]$\n",
    "\n",
    "> LinearSVC does not accept keyword ** *kernel* ** and ** *support_* **"
   ]
  },
  {
   "cell_type": "code",
   "execution_count": 1,
   "metadata": {},
   "outputs": [
    {
     "data": {
      "text/plain": [
       "SVC(C=1.0, cache_size=200, class_weight=None, coef0=0.0,\n",
       "  decision_function_shape='ovr', degree=3, gamma='auto', kernel='rbf',\n",
       "  max_iter=-1, probability=False, random_state=None, shrinking=True,\n",
       "  tol=0.001, verbose=False)"
      ]
     },
     "execution_count": 1,
     "metadata": {},
     "output_type": "execute_result"
    }
   ],
   "source": [
    "from sklearn import svm\n",
    "X = [[0, 0], [1, 1]]\n",
    "y = [0, 1]\n",
    "clf = svm.SVC()\n",
    "clf.fit(X, y) "
   ]
  },
  {
   "cell_type": "code",
   "execution_count": 2,
   "metadata": {},
   "outputs": [
    {
     "data": {
      "text/plain": [
       "array([1])"
      ]
     },
     "execution_count": 2,
     "metadata": {},
     "output_type": "execute_result"
    }
   ],
   "source": [
    "clf.predict([[2., 2.]])"
   ]
  },
  {
   "cell_type": "markdown",
   "metadata": {},
   "source": [
    "SVMs decision function properties"
   ]
  },
  {
   "cell_type": "code",
   "execution_count": 3,
   "metadata": {},
   "outputs": [
    {
     "data": {
      "text/plain": [
       "array([[ 0.,  0.],\n",
       "       [ 1.,  1.]])"
      ]
     },
     "execution_count": 3,
     "metadata": {},
     "output_type": "execute_result"
    }
   ],
   "source": [
    "# get support vectors\n",
    "clf.support_vectors_"
   ]
  },
  {
   "cell_type": "code",
   "execution_count": 4,
   "metadata": {},
   "outputs": [
    {
     "data": {
      "text/plain": [
       "array([0, 1])"
      ]
     },
     "execution_count": 4,
     "metadata": {},
     "output_type": "execute_result"
    }
   ],
   "source": [
    "# get indices of support vectors\n",
    "clf.support_ "
   ]
  },
  {
   "cell_type": "code",
   "execution_count": 5,
   "metadata": {},
   "outputs": [
    {
     "data": {
      "text/plain": [
       "array([1, 1])"
      ]
     },
     "execution_count": 5,
     "metadata": {},
     "output_type": "execute_result"
    }
   ],
   "source": [
    "# get number of support vectors for each class\n",
    "clf.n_support_"
   ]
  },
  {
   "cell_type": "markdown",
   "metadata": {},
   "source": [
    "# Multi class Classification #\n",
    "number of class = $n\\_class$\n",
    "\n",
    "## For SVC and NuSVC ##\n",
    "num of Classifiers: $n\\_class \\times \\frac{(n\\_class - 1)}{ 2}$\n",
    "\n",
    "decission_function_shape =   (n_samples, n_classes)\n",
    "\n",
    "> approach : \"one-against-one"
   ]
  },
  {
   "cell_type": "code",
   "execution_count": 6,
   "metadata": {},
   "outputs": [
    {
     "data": {
      "text/plain": [
       "SVC(C=1.0, cache_size=200, class_weight=None, coef0=0.0,\n",
       "  decision_function_shape='ovo', degree=3, gamma='auto', kernel='rbf',\n",
       "  max_iter=-1, probability=False, random_state=None, shrinking=True,\n",
       "  tol=0.001, verbose=False)"
      ]
     },
     "execution_count": 6,
     "metadata": {},
     "output_type": "execute_result"
    }
   ],
   "source": [
    "X = [[0], [1], [2], [3]]\n",
    "Y = [0, 1, 2, 3]\n",
    "clf = svm.SVC(decision_function_shape='ovo')\n",
    "clf.fit(X, Y) "
   ]
  },
  {
   "cell_type": "code",
   "execution_count": 7,
   "metadata": {},
   "outputs": [
    {
     "data": {
      "text/plain": [
       "6"
      ]
     },
     "execution_count": 7,
     "metadata": {},
     "output_type": "execute_result"
    }
   ],
   "source": [
    "dec = clf.decision_function([[1]])\n",
    "dec.shape[1] # 4 classes: 4*3/2 = 6"
   ]
  },
  {
   "cell_type": "code",
   "execution_count": 8,
   "metadata": {},
   "outputs": [
    {
     "data": {
      "text/plain": [
       "4"
      ]
     },
     "execution_count": 8,
     "metadata": {},
     "output_type": "execute_result"
    }
   ],
   "source": [
    "clf.decision_function_shape = \"ovr\"\n",
    "dec = clf.decision_function([[1]])\n",
    "dec.shape[1] # 4 classes"
   ]
  },
  {
   "cell_type": "markdown",
   "metadata": {},
   "source": [
    "## For Linear SVC ##\n",
    "> approach: \"one-vs-the-rest\""
   ]
  },
  {
   "cell_type": "code",
   "execution_count": 9,
   "metadata": {},
   "outputs": [
    {
     "data": {
      "text/plain": [
       "LinearSVC(C=1.0, class_weight=None, dual=True, fit_intercept=True,\n",
       "     intercept_scaling=1, loss='squared_hinge', max_iter=1000,\n",
       "     multi_class='ovr', penalty='l2', random_state=None, tol=0.0001,\n",
       "     verbose=0)"
      ]
     },
     "execution_count": 9,
     "metadata": {},
     "output_type": "execute_result"
    }
   ],
   "source": [
    "lin_clf = svm.LinearSVC()\n",
    "lin_clf.fit(X, Y) "
   ]
  },
  {
   "cell_type": "code",
   "execution_count": 10,
   "metadata": {},
   "outputs": [
    {
     "data": {
      "text/plain": [
       "4"
      ]
     },
     "execution_count": 10,
     "metadata": {},
     "output_type": "execute_result"
    }
   ],
   "source": [
    "dec = lin_clf.decision_function([[1]])\n",
    "dec.shape[1]"
   ]
  },
  {
   "cell_type": "markdown",
   "metadata": {},
   "source": [
    "** Alternative multi-class SVM **\n",
    "\n",
    "LinearSVC(multi_class='crammer_singer') \n",
    "\n",
    "> In practice, one-vs-rest classification is usually preferred, since the results are mostly similar, but the runtime is significantly less."
   ]
  },
  {
   "cell_type": "markdown",
   "metadata": {},
   "source": [
    "** \"One vs Rest\" LinearSVC **\n",
    "\n",
    "<b><i>coef_</i></b> : [$n\\_class$, $n\\_features$]\n",
    "\n",
    "<b><i>intercept_</i></b> : [$n_class$]\n",
    "\n",
    "** \"One-vs-One\" SVC **\n",
    "\n",
    "<b><i>coef_</i></b> : [$n\\_class \\times \\frac{(n\\_class - 1)}{ 2}$, $n\\_features$]\n",
    "\n",
    "<b><i>intercept_</i></b> : [$n_class$]\n",
    "\n",
    "** Dual Coffecient **\n",
    "<b><i>dual_coef_</i></b> : [$n\\_class$, $n\\_SV$]"
   ]
  },
  {
   "cell_type": "markdown",
   "metadata": {},
   "source": [
    "```python\n",
    "from sklearn.svm import SVC  # C-Support Vector Classification.\n",
    "```\n",
    "> * support_\n",
    "> * support_vectors_\n",
    "> * n_support_ \n",
    "> * dual_coef_\n",
    "> * coef_\n",
    "> * intercept_\n",
    "\n",
    "| Parameters | type | value | dafault |\n",
    "|------------|------|-------|---------|\n",
    "| C |  float | optional | 1.0 |\n",
    "| kernel | string | optional | ’rbf’|\n",
    "| degree | int | optional | 3 |\n",
    "| gamma | float | optional | ’auto’ |\n",
    "| coef0 | float | optional | 0.0 |\n",
    "| probability | boolean | optional | False |\n",
    "| shrinking | boolean | optional | True |\n",
    "| tol | float | optional | 1e-3 |\n",
    "| cache_size | float | optional| |\n",
    "| class_weight | dict | balanced | optional |\n",
    "| verbose | bool | |False |\n",
    "| max_iter | int | optional | -1 |\n",
    "| decision_function_shape | str |‘ovo’, ‘ovr’ | ’ovr’ |\n",
    "| random_state | int | RandomState instance or None, optional | None |\n",
    "\n",
    "\n",
    "| Methods | Parameters | return |\n",
    "|---------|------------|--------|\n",
    "| decision_function | X | array |\n",
    "| fit | X, y, sample_weight=None | self |\n",
    "| get_params | deep=True | params |\n",
    "| predict | X | c |\n",
    "| predict_log_proba | X | T |\n",
    "| predict_proba | X | T |\n",
    "| score | X, y, sample_weight=None | score |\n",
    "| set_params | \\*\\*params | self | "
   ]
  },
  {
   "cell_type": "markdown",
   "metadata": {},
   "source": [
    "```python\n",
    "from sklearn.svm import NuSVC  # Nu-Support Vector Classification.\n",
    "```\n",
    "> * support_\n",
    "> * support_vectors_\n",
    "> * n_support_\n",
    "> * dual_coef_\n",
    "> * coef_\n",
    "> * intercept_\n",
    "\n",
    "| Parameters | type | value | dafault |\n",
    "|------------|------|-------|---------|\n",
    "| nu | float | optional |0.5 |\n",
    "| kernel | string | optional | ’rbf’ |\n",
    "| degree | int | optional | 3 |\n",
    "| gamma | float | optional | ’auto’ |\n",
    "| coef0 | float | optional | 0.0 |\n",
    "| probability | boolean | optional | False |\n",
    "| shrinking | boolean | optional | True |\n",
    "| tol | float | optional | 1e-3 |\n",
    "| cache_size | float | optional| |\n",
    "| class_weight | dict | ‘balanced’ | optional|\n",
    "| verbose | bool | | False|\n",
    "| max_iter | int | optional | -1 |\n",
    "| decision_function_shape | str | ‘ovo’, ‘ovr’|’ovr’|\n",
    "| random_state | int | RandomState instance or None, optional |None)|\n",
    "\n",
    "| Methods | Parameters | return |\n",
    "|---------|------------|--------|\n",
    "| decision_function | X | array |\n",
    "| fit | X, y, sample_weight=None | self |\n",
    "| get_params | deep=True | params |\n",
    "| predict | X | c |\n",
    "| predict_log_proba | X | T |\n",
    "| predict_proba | X | T |\n",
    "| score | X, y, sample_weight=None | score |\n",
    "| set_params | \\*\\*params | self | "
   ]
  },
  {
   "cell_type": "markdown",
   "metadata": {},
   "source": [
    "```python\n",
    "from sklearn.svm import LinearSVC  # kernel = 'linear'.\n",
    "```\n",
    "> * coef_\n",
    "> * intercept_\n",
    "\n",
    "\n",
    "| Parameters | type | value | dafault |\n",
    "|------------|------|-------|---------|\n",
    "| penalty | str | ‘l1’ or ‘l2’ | ‘l2’ |\n",
    "| loss | str |  ‘hinge’ or ‘squared_hinge’ | ’squared_hinge’ |\n",
    "| dual | bool |True or False | True |\n",
    "| tol | float  | optional |1e-4|\n",
    "| C | float | optional | 1.0 |\n",
    "| multi_class | str |  ‘ovr’ or ‘crammer_singer’ | ‘ovr’ |\n",
    "| fit_intercept | bool | | True |\n",
    "| intercept_scaling | float | | 1 |\n",
    "| class_weight | dict | ‘balanced’ | optional |\n",
    "| verbose | int| | 0|\n",
    "| random_state | int | RandomState instance or None, optional | None |\n",
    "| solver | str | {‘newton-cg’, ‘lbfgs’, ‘liblinear’, ‘sag’, ‘saga’} | ‘liblinear’ |\n",
    "| max_iter | int | | 100 |\n",
    "\n",
    "\n",
    "| Methods | Parameters | return |\n",
    "|---------|------------|--------|\n",
    "| decision_function | X | array |\n",
    "| densify | | self |\n",
    "| fit | X, y, sample_weight=None | self |\n",
    "| get_params | deep=True | params |\n",
    "| predict | X | c |\n",
    "| score | X, y, sample_weight=None | score |\n",
    "| set_params | \\*\\*params | self | \n",
    "| sparsify | | self |"
   ]
  }
 ],
 "metadata": {
  "kernelspec": {
   "display_name": "Python 3",
   "language": "python",
   "name": "python3"
  },
  "language_info": {
   "codemirror_mode": {
    "name": "ipython",
    "version": 3
   },
   "file_extension": ".py",
   "mimetype": "text/x-python",
   "name": "python",
   "nbconvert_exporter": "python",
   "pygments_lexer": "ipython3",
   "version": "3.6.3"
  }
 },
 "nbformat": 4,
 "nbformat_minor": 2
}
